{
 "cell" : [
 {
  "id": "5ee5b88f-8c04-40a6-82f2-5d23129a54d1",
   "metadata" : {
   "tags" : [] 
  },
  "source" : [
"# DotPod for Rails" 
"\n"
"In the would Rails files of Rubyfile [Opt. Gemfile] on install." 
"\n"
"### Install Rails" 
"\n"
"To integrate Dotpod into Rails for optimizing your Ruby files, there are a few steps you can take:" 
"\n"
"1. Install the Dotpod package in your Rails app by adding this line to your Gemfile:" 
"\n"
"```ruby
gem 'dotpod'
```"
"\n"
"Then run 'bundle install' to install the gem."
"\n"
"2. Configure Dotpod in your development or production environment by adding the following to your `application.rb` or `config/environments/` respectively:" 
"\n"
"```ruby
ENV\[‘DOTPOD\_OPTIONS'\] = 'optimize'"
"\n"
 ] 
},
